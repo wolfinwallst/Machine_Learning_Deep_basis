{
  "cells": [
    {
      "cell_type": "markdown",
      "metadata": {
        "id": "view-in-github",
        "colab_type": "text"
      },
      "source": [
        "<a href=\"https://colab.research.google.com/github/wolfinwallst/Machine_Learning_Deep_basis/blob/main/RL_Lab-05_Q_learning_on_non_deterministic_worlds.ipynb\" target=\"_parent\"><img src=\"https://colab.research.google.com/assets/colab-badge.svg\" alt=\"Open In Colab\"/></a>"
      ]
    },
    {
      "cell_type": "markdown",
      "metadata": {
        "id": "diEUIks7Sm9T"
      },
      "source": [
        "모두를 위한 RL\n",
        "\n",
        "Lab-05\n",
        "\n",
        "non-deterministic (`stochastic`) world에선,\n",
        "\n",
        "앞선 강의의 Q-learning 을 통한 강화학습이 잘 작동하지 않으므로\n",
        "\n",
        "$Q(s, a)$ 와 $[r + \\gamma \\max_{a'} Q(s', a')]$ 을 lr $\\alpha$로 묶어준다:\n",
        "\n",
        "$$Q(s, a) \\leftarrow (1 - \\alpha) Q(s, a) + \\alpha [r + \\gamma \\max_{a'} Q(s', a')]$$"
      ]
    },
    {
      "cell_type": "code",
      "execution_count": 1,
      "metadata": {
        "colab": {
          "base_uri": "https://localhost:8080/"
        },
        "id": "4vtadrbLSm9V",
        "outputId": "9ffca783-4385-4835-8ae9-5654a9b90606"
      },
      "outputs": [
        {
          "output_type": "stream",
          "name": "stderr",
          "text": [
            "/usr/local/lib/python3.11/dist-packages/gym/core.py:317: DeprecationWarning: \u001b[33mWARN: Initializing wrapper in old step API which returns one bool instead of two. It is recommended to set `new_step_api=True` to use new step API. This will be the default behaviour in future.\u001b[0m\n",
            "  deprecation(\n",
            "/usr/local/lib/python3.11/dist-packages/gym/wrappers/step_api_compatibility.py:39: DeprecationWarning: \u001b[33mWARN: Initializing environment in old step API which returns one bool instead of two. It is recommended to set `new_step_api=True` to use new step API. This will be the default behaviour in future.\u001b[0m\n",
            "  deprecation(\n"
          ]
        }
      ],
      "source": [
        "import gym\n",
        "import numpy as np\n",
        "import matplotlib.pyplot as plt\n",
        "\n",
        "env = gym.make('FrozenLake-v1')\n",
        "\n",
        "Q = np.zeros([env.observation_space.n, env.action_space.n])\n",
        "\n",
        "# lr은 빠른 학습을 위해 임의로 큰 값으로 설정_Q 값 업데이트에 사용됨\n",
        "learning_rate = .85\n",
        "dis = .99\n",
        "num_episodes = 2000"
      ]
    },
    {
      "cell_type": "code",
      "execution_count": 8,
      "metadata": {
        "id": "N1Ic5BDcSm9W"
      },
      "outputs": [],
      "source": [
        "rList=[]\n",
        "for i in  range(num_episodes):\n",
        "    state = env.reset()\n",
        "    rAll = 0\n",
        "    done = False\n",
        "\n",
        "    while not done:\n",
        "        # 액션에 random noise 를 더해줌\n",
        "        action = np.argmax(Q[state,  :] + np.random.randn(1, env.action_space.n)/(i+1))\n",
        "\n",
        "        new_state, reward, done, _ = env.step(action)\n",
        "\n",
        "        Q[state, action] = (1-learning_rate) * Q[state, action] + learning_rate * (reward + dis * np.max(Q[new_state, :]))\n",
        "\n",
        "        rAll += reward\n",
        "        state = new_state\n",
        "\n",
        "    rList.append(rAll)"
      ]
    },
    {
      "cell_type": "code",
      "execution_count": 6,
      "metadata": {
        "colab": {
          "base_uri": "https://localhost:8080/",
          "height": 742
        },
        "id": "o-_vS9QOSm9W",
        "outputId": "cab46c94-d982-4067-8b87-ad8891c6f32d"
      },
      "outputs": [
        {
          "output_type": "stream",
          "name": "stdout",
          "text": [
            "Score over time: 0.6875\n",
            "Final Q-Table Values\n",
            "[[7.48305908e-01 1.58412085e-02 1.99648938e-02 2.76200512e-02]\n",
            " [4.47010282e-03 2.03702285e-03 2.35441577e-03 7.93532019e-01]\n",
            " [8.76541605e-03 8.89154661e-03 2.71369573e-03 5.76389893e-01]\n",
            " [1.30725892e-03 1.29423163e-04 9.74512227e-04 4.00049900e-01]\n",
            " [9.01332123e-01 2.56668729e-03 1.30739130e-02 2.41322829e-03]\n",
            " [0.00000000e+00 0.00000000e+00 0.00000000e+00 0.00000000e+00]\n",
            " [6.75075329e-02 1.02989068e-08 4.21074250e-05 4.12165659e-05]\n",
            " [0.00000000e+00 0.00000000e+00 0.00000000e+00 0.00000000e+00]\n",
            " [0.00000000e+00 2.13977361e-03 8.46738120e-04 8.82915964e-01]\n",
            " [0.00000000e+00 9.62208408e-01 2.03142570e-03 0.00000000e+00]\n",
            " [9.86030084e-01 0.00000000e+00 0.00000000e+00 0.00000000e+00]\n",
            " [0.00000000e+00 0.00000000e+00 0.00000000e+00 0.00000000e+00]\n",
            " [0.00000000e+00 0.00000000e+00 0.00000000e+00 0.00000000e+00]\n",
            " [0.00000000e+00 0.00000000e+00 9.55907152e-01 0.00000000e+00]\n",
            " [0.00000000e+00 9.94740448e-01 0.00000000e+00 0.00000000e+00]\n",
            " [0.00000000e+00 0.00000000e+00 0.00000000e+00 0.00000000e+00]]\n"
          ]
        },
        {
          "output_type": "display_data",
          "data": {
            "text/plain": [
              "<Figure size 640x480 with 1 Axes>"
            ],
            "image/png": "[encoded data removed]"
          },
          "metadata": {}
        }
      ],
      "source": [
        "print(\"Score over time: \" + str(sum(rList) / num_episodes))\n",
        "print('Final Q-Table Values')\n",
        "print(Q)\n",
        "plt.bar(range(len(rList)), rList, color=\"blue\")\n",
        "plt.show()"
      ]
    }
  ],
  "metadata": {
    "kernelspec": {
      "display_name": ".venv",
      "language": "python",
      "name": "python3"
    },
    "language_info": {
      "name": "python",
      "version": "3.12.8"
    },
    "colab": {
      "provenance": [],
      "include_colab_link": true
    }
  },
  "nbformat": 4,
  "nbformat_minor": 0
}