{
 "cells": [
  {
   "cell_type": "markdown",
   "metadata": {},
   "source": [
    "Gradient-based learning applied to document recognition, 1998"
   ]
  },
  {
   "cell_type": "code",
   "execution_count": 1,
   "metadata": {},
   "outputs": [],
   "source": [
    "import torch\n",
    "import torch.nn as nn\n",
    "import torch.nn.functional as F\n",
    "import torch.optim as optim"
   ]
  },
  {
   "cell_type": "code",
   "execution_count": 2,
   "metadata": {},
   "outputs": [],
   "source": [
    "class LeNet5(nn.Module):\n",
    "    def __init__(self, num_class):\n",
    "        self.cnn_level = nn.Sequential(\n",
    "            nn.Conv2d(in_channels=1, out_channels=6, kernel_size=5, stride=1),\n",
    "            nn.Sigmoid(),\n",
    "            nn.AvgPool2d(kernel_size=2),\n",
    "            nn.Conv2d(in_channels=6, out_channels=16, kernel_size=5, stride=1),\n",
    "            nn.Sigmoid(),\n",
    "            nn.AvgPool2d(kernel_size=2),\n",
    "            nn.Conv2d(in_channels=16, out_channels=120, kernel_size=5, stride=1),\n",
    "            nn.Sigmoid()\n",
    "        )\n",
    "\n",
    "        self.fc_level = nn.Sequential(\n",
    "            nn.Linear(in_features=120, out_features=84),\n",
    "            nn.Sigmoid(),\n",
    "            nn.Linear(in_features=84, out_features=num_class)\n",
    "        )\n",
    "    \n",
    "    def forward(self, x):\n",
    "        x = self.cnn_level(x)\n",
    "        x = torch.flatten(x)\n",
    "        x = self.fc_level(x)\n",
    "        probs = F.softmax(x, dim=1)\n",
    "        return probs"
   ]
  },
  {
   "cell_type": "code",
   "execution_count": null,
   "metadata": {},
   "outputs": [],
   "source": []
  },
  {
   "cell_type": "markdown",
   "metadata": {},
   "source": [
    "아래처럼 단계적으로 진행해보자:"
   ]
  },
  {
   "cell_type": "code",
   "execution_count": 10,
   "metadata": {},
   "outputs": [],
   "source": [
    "# primitive method\n",
    "def LeNet_primitive(image, num_classes):\n",
    "    C1 = nn.Conv2d(in_channels=1, out_channels=6, kernel_size=(5,5),\n",
    "                               stride=(1,1), padding=(0,0))\n",
    "    \n",
    "    S2 = nn.AvgPool2d(kernel_size=(2,2), stride=(2,2)) # SubSampling=Pooling\n",
    "\n",
    "    C3 =  nn.Conv2d(in_channels=6, out_channels=16, kernel_size=(5,5),\n",
    "                               stride=(1,1), padding=(0,0))\n",
    "    \n",
    "    S4 = nn.AvgPool2d(kernel_size=(2,2), stride=(2,2))\n",
    "\n",
    "    C5 = nn.Conv2d(in_channels=16, out_channels=120, kernel_size=(5,5),\n",
    "                               stride=(1,1), padding=(0,0))\n",
    "    \n",
    "    F6 = nn.Linear(in_features=120, out_features=84)\n",
    "\n",
    "    flatten = nn.Flatten()\n",
    "\n",
    "    classifier = nn.Linear(in_features=84, out_features=num_classes)\n",
    "\n",
    "    # 각 layer를 거치면서 변하는 size 확인\n",
    "    x = C1(image)\n",
    "    print(x.size())\n",
    "    x = S2(x)\n",
    "    print(x.size())\n",
    "    x = C3(x)\n",
    "    print(x.size())\n",
    "    x = S4(x)\n",
    "    print(x.size())\n",
    "    x= C5(x)\n",
    "    print(x.size())\n",
    "    x = flatten(x)\n",
    "    print(x.size())\n",
    "    x = F6(x)\n",
    "    print(x.size())\n",
    "\n",
    "    x = classifier(x)\n",
    "    print(x.size())\n",
    "\n",
    "    return x"
   ]
  },
  {
   "cell_type": "code",
   "execution_count": 11,
   "metadata": {},
   "outputs": [
    {
     "name": "stdout",
     "output_type": "stream",
     "text": [
      "torch.Size([64, 6, 28, 28])\n",
      "torch.Size([64, 6, 14, 14])\n",
      "torch.Size([64, 16, 10, 10])\n",
      "torch.Size([64, 16, 5, 5])\n",
      "torch.Size([64, 120, 1, 1])\n",
      "torch.Size([64, 120])\n",
      "torch.Size([64, 84])\n",
      "torch.Size([64, 10])\n"
     ]
    }
   ],
   "source": [
    "torch.manual_seed(42)\n",
    "image = torch.randn(64, 1, 32, 32)\n",
    "num_classes = 10\n",
    "output = LeNet_primitive(image, num_classes)"
   ]
  },
  {
   "cell_type": "code",
   "execution_count": 12,
   "metadata": {},
   "outputs": [
    {
     "data": {
      "text/plain": [
       "tensor([-0.0533, -0.0760,  0.0290, -0.0205,  0.0147, -0.0804, -0.0519, -0.1315,\n",
       "        -0.1492,  0.0654], grad_fn=<SelectBackward0>)"
      ]
     },
     "execution_count": 12,
     "metadata": {},
     "output_type": "execute_result"
    }
   ],
   "source": [
    "output[0]"
   ]
  },
  {
   "cell_type": "code",
   "execution_count": 3,
   "metadata": {},
   "outputs": [],
   "source": [
    "# nn.Module을 사용한 LeNet architecture를 구현하는 class 생성\n",
    "class LeNet(nn.Module):\n",
    "    def __init__(self):\n",
    "        super(LeNet, self).__init__()\n",
    "        self.relu = nn.ReLU()\n",
    "        self.pool = nn.AvgPool2d(kernel_size=(2,2), stride=(2,2))\n",
    "        self.conv1 = nn.Conv2d(in_channels=1, out_channels=6, kernel_size=(5,5),\n",
    "                               stride=(1,1), padding=(0,0))\n",
    "        self.conv2 = nn.Conv2d(in_channels=6, out_channels=16, kernel_size=(5,5),\n",
    "                               stride=(1,1), padding=(0,0))\n",
    "        self.conv3 = nn.Conv2d(in_channels=16, out_channels=120, kernel_size=(5,5),\n",
    "                               stride=(1,1), padding=(0,0))\n",
    "        self.linear1 = nn.Linear(120, 84)\n",
    "        self.linear2 = nn.Linear(84, 10)        \n",
    "    \n",
    "    def forward(self, x):\n",
    "        x = self.relu(self.conv1(x))\n",
    "        x = self.pool(x)\n",
    "        x = self.relu(self.conv2(x))\n",
    "        x = self.pool(x)\n",
    "        x = self.relu(self.conv3(x)) # N x 120 x 1 x 1 -> N x 120\n",
    "        x = x.reshape(x.shape[0], -1)\n",
    "        x = self.relu(self.linear1(x))\n",
    "        return self.linear2(x)"
   ]
  },
  {
   "cell_type": "code",
   "execution_count": 4,
   "metadata": {},
   "outputs": [
    {
     "data": {
      "text/plain": [
       "torch.Size([64, 10])"
      ]
     },
     "execution_count": 4,
     "metadata": {},
     "output_type": "execute_result"
    }
   ],
   "source": [
    "image = torch.randn((64, 1, 32, 32))\n",
    "model = LeNet()\n",
    "with torch.no_grad():\n",
    "    out = model(image)\n",
    "out.size()"
   ]
  },
  {
   "cell_type": "markdown",
   "metadata": {},
   "source": [
    "`nn.Sequential()` 을 써보자:"
   ]
  },
  {
   "cell_type": "code",
   "execution_count": null,
   "metadata": {},
   "outputs": [],
   "source": [
    "# nn.Sequential() 사용\n",
    "# 아래처럼 블록으로 안 묶고, 다 풀어서 순서대로 써도 무방\n",
    "class LeNet(nn.Module):\n",
    "    def __init__(self):\n",
    "        super(LeNet, self).__init__()\n",
    "\n",
    "        self.c1_s2_block = nn.Sequential(\n",
    "            nn.Conv2d(in_channels=1, out_channels=6, kernel_size=(5, 5),\n",
    "                      stride=(1, 1), padding=(0, 0)),\n",
    "            nn.ReLU(),\n",
    "            nn.AvgPool2d(kernel_size=(2, 2), stride=(2, 2))\n",
    "        )\n",
    "\n",
    "        self.c3_s4_block = nn.Sequential(\n",
    "            nn.Conv2d(in_channels=6, out_channels=16, kernel_size=(5, 5),\n",
    "                      stride=(1, 1), padding=(0, 0)),\n",
    "            nn.ReLU(),\n",
    "            nn.AvgPool2d(kernel_size=(2, 2), stride=(2, 2))\n",
    "        )\n",
    "\n",
    "        self.c5_f6_block = nn.Sequential(\n",
    "            nn.Conv2d(in_channels=16, out_channels=120, kernel_size=(5, 5),\n",
    "                      stride=(1, 1), padding=(0, 0)),\n",
    "            nn.ReLU(),\n",
    "            nn.Flatten(),\n",
    "            nn.Linear(120, 84),\n",
    "            nn.ReLU()\n",
    "        )\n",
    "\n",
    "        self.classifier = nn.Linear(84, 10)\n",
    "\n",
    "    def forward(self, x):\n",
    "        x = self.c1_s2_block(x)\n",
    "        x = self.c3_s4_block(x)\n",
    "        x = self.c5_f6_block(x)\n",
    "        x = self.classifier(x)\n",
    "        return x"
   ]
  },
  {
   "cell_type": "code",
   "execution_count": 7,
   "metadata": {},
   "outputs": [
    {
     "data": {
      "text/plain": [
       "torch.Size([64, 10])"
      ]
     },
     "execution_count": 7,
     "metadata": {},
     "output_type": "execute_result"
    }
   ],
   "source": [
    "image = torch.randn((64, 1, 32, 32))\n",
    "model = LeNet()\n",
    "with torch.no_grad():\n",
    "    out = model(image)\n",
    "out.size()"
   ]
  },
  {
   "cell_type": "code",
   "execution_count": null,
   "metadata": {},
   "outputs": [],
   "source": []
  },
  {
   "cell_type": "code",
   "execution_count": null,
   "metadata": {},
   "outputs": [],
   "source": []
  },
  {
   "cell_type": "code",
   "execution_count": null,
   "metadata": {},
   "outputs": [],
   "source": []
  },
  {
   "cell_type": "code",
   "execution_count": null,
   "metadata": {},
   "outputs": [],
   "source": []
  }
 ],
 "metadata": {
  "kernelspec": {
   "display_name": ".venv",
   "language": "python",
   "name": "python3"
  },
  "language_info": {
   "codemirror_mode": {
    "name": "ipython",
    "version": 3
   },
   "file_extension": ".py",
   "mimetype": "text/x-python",
   "name": "python",
   "nbconvert_exporter": "python",
   "pygments_lexer": "ipython3",
   "version": "3.13.1"
  }
 },
 "nbformat": 4,
 "nbformat_minor": 2
}
