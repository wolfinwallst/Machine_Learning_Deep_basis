{
  "cells": [
    {
      "cell_type": "markdown",
      "metadata": {
        "id": "view-in-github",
        "colab_type": "text"
      },
      "source": [
        "<a href=\"https://colab.research.google.com/github/wolfinwallst/All-About-Financial-Data-Science/blob/main/NLP_RNN_01.ipynb\" target=\"_parent\"><img src=\"https://colab.research.google.com/assets/colab-badge.svg\" alt=\"Open In Colab\"/></a>"
      ]
    },
    {
      "cell_type": "markdown",
      "source": [
        "[딥 러닝 파이토치 교과서](https://wikidocs.net/60690) 를 참고했다.\n",
        "먼저 PyTorch를 사용하지 않고, RNN 구조를 다뤄보자:"
      ],
      "metadata": {
        "id": "ppSBv4jyQKFz"
      }
    },
    {
      "cell_type": "code",
      "execution_count": 1,
      "metadata": {
        "id": "HMlYFIsAQHnd"
      },
      "outputs": [],
      "source": [
        "import numpy as np\n",
        "\n",
        "timesteps = 10 # 시점 개수, NLP에선 문장 길이\n",
        "\n",
        "input_size = 4 # 입력 차원. NLP에선 단어 벡터의 차원\n",
        "hidden_size = 8 # 은닉 상태의 크기, 메모리 셀의 용량\n",
        "\n",
        "inputs = np.random.random((timesteps, input_size)) # 입력에 해당되는 2D 텐서\n",
        "hidden_state_t = np.zeros((hidden_size,)) # 은닉 상태 0으로 초기화"
      ]
    },
    {
      "cell_type": "code",
      "execution_count": 2,
      "metadata": {
        "colab": {
          "base_uri": "https://localhost:8080/"
        },
        "id": "tPiX3LQZQHnl",
        "outputId": "3a07f2fc-28c9-4bdf-eaf4-4cc534dcadeb"
      },
      "outputs": [
        {
          "output_type": "stream",
          "name": "stdout",
          "text": [
            "[0. 0. 0. 0. 0. 0. 0. 0.]\n"
          ]
        }
      ],
      "source": [
        "print(hidden_state_t)"
      ]
    },
    {
      "cell_type": "code",
      "execution_count": 3,
      "metadata": {
        "colab": {
          "base_uri": "https://localhost:8080/"
        },
        "id": "6vA37pwjQHnn",
        "outputId": "a6e951b1-16f8-4a1d-bfb0-be40b3160ce9"
      },
      "outputs": [
        {
          "output_type": "stream",
          "name": "stdout",
          "text": [
            "(10, 4)\n"
          ]
        }
      ],
      "source": [
        "print(inputs.shape)"
      ]
    },
    {
      "cell_type": "markdown",
      "source": [
        "$$ h_t = \\tanh ( W_x X_t + W_h h_{t-1} + b) $$\n",
        "$$ y_t = f (W_y h_t + b) $$\n",
        "\n",
        "여기서 f는 non-linear activation function으로, 대표적으로 sigmoid를 사용 할 수 있다."
      ],
      "metadata": {
        "id": "-SLrXWq2W2a3"
      }
    },
    {
      "cell_type": "code",
      "execution_count": 4,
      "metadata": {
        "id": "h58W8WZgQHno"
      },
      "outputs": [],
      "source": [
        "# 파라미터(가중치, 편향) 초기화\n",
        "Wx = np.random.random((hidden_size, input_size)) # (8, 4) 크기의 2D 텐서\n",
        "Wh = np.random.random((hidden_size, hidden_size)) # (8, 8)\n",
        "b = np.random.random((hidden_size,)) # (8,) 1D 텐서"
      ]
    },
    {
      "cell_type": "code",
      "execution_count": 5,
      "metadata": {
        "colab": {
          "base_uri": "https://localhost:8080/"
        },
        "id": "svaKY1L6QHnp",
        "outputId": "fa86b991-57ac-4e77-f100-0e2dd8f2ad9b"
      },
      "outputs": [
        {
          "output_type": "stream",
          "name": "stdout",
          "text": [
            "(8, 4)\n",
            "(8, 8)\n",
            "(8,)\n"
          ]
        }
      ],
      "source": [
        "print(np.shape(Wx))\n",
        "print(Wh.shape)\n",
        "print(np.shape(b))"
      ]
    },
    {
      "cell_type": "code",
      "execution_count": 6,
      "metadata": {
        "colab": {
          "base_uri": "https://localhost:8080/"
        },
        "id": "-qT_XFPdQHnq",
        "outputId": "4e3f3fbc-a47e-43ff-c292-d95e07e96cb0"
      },
      "outputs": [
        {
          "output_type": "stream",
          "name": "stdout",
          "text": [
            "(1, 8)\n",
            "(2, 8)\n",
            "(3, 8)\n",
            "(4, 8)\n",
            "(5, 8)\n",
            "(6, 8)\n",
            "(7, 8)\n",
            "(8, 8)\n",
            "(9, 8)\n",
            "(10, 8)\n"
          ]
        }
      ],
      "source": [
        "total_hidden_states = []\n",
        "\n",
        "# 메모리 셀 동작\n",
        "for input_t in inputs:\n",
        "    output_t = np.tanh(Wx @ input_t + Wh @ hidden_state_t + b)\n",
        "    total_hidden_states.append(list(output_t))\n",
        "\n",
        "    print(np.shape(total_hidden_states)) # 각 시점 t별 메모리 셀의 출력의 크기는 (timestep, output_dim)\n",
        "    hidden_state_t = output_t"
      ]
    },
    {
      "cell_type": "code",
      "source": [
        "total_hidden_states = np.stack(total_hidden_states, axis=0)\n",
        "print(total_hidden_states)"
      ],
      "metadata": {
        "colab": {
          "base_uri": "https://localhost:8080/"
        },
        "id": "ZdCEm_TPZjjY",
        "outputId": "a173a7cd-d9ce-4996-9edb-23bf57d31de8"
      },
      "execution_count": 7,
      "outputs": [
        {
          "output_type": "stream",
          "name": "stdout",
          "text": [
            "[[0.98434029 0.96913257 0.96700017 0.96173097 0.85118625 0.93472664\n",
            "  0.9634645  0.95376834]\n",
            " [0.99996726 0.99998777 0.99964854 0.9999945  0.99939482 0.99992895\n",
            "  0.99997089 0.99962376]\n",
            " [0.99999623 0.99999788 0.99987541 0.99999794 0.99969308 0.99997113\n",
            "  0.99998785 0.99995163]\n",
            " [0.99999678 0.99999839 0.99993058 0.99999906 0.99984022 0.99998921\n",
            "  0.99999195 0.99995456]\n",
            " [0.99998656 0.99999067 0.99966201 0.99999467 0.99921138 0.99991535\n",
            "  0.99997474 0.99975024]\n",
            " [0.99999465 0.99999828 0.99990452 0.9999986  0.99981838 0.99998024\n",
            "  0.99998855 0.99996574]\n",
            " [0.99998921 0.99999191 0.99971958 0.99999574 0.99933731 0.99993743\n",
            "  0.99997776 0.99977848]\n",
            " [0.99999087 0.99999044 0.99971211 0.99999582 0.99929755 0.99994443\n",
            "  0.99997636 0.99974082]\n",
            " [0.99999856 0.99999915 0.99997243 0.99999967 0.99991698 0.99999722\n",
            "  0.9999969  0.99995056]\n",
            " [0.99999066 0.99999731 0.9998864  0.99999833 0.9997416  0.99997483\n",
            "  0.99999043 0.99989675]]\n"
          ]
        }
      ]
    },
    {
      "cell_type": "markdown",
      "source": [
        "# 2. PyTorch 로 `RNN` 을 다뤄본다:"
      ],
      "metadata": {
        "id": "y1UwgB-Haf9c"
      }
    },
    {
      "cell_type": "code",
      "execution_count": 8,
      "metadata": {
        "id": "3gYy4NQwQHns"
      },
      "outputs": [],
      "source": [
        "import torch\n",
        "import torch.nn as nn"
      ]
    },
    {
      "cell_type": "code",
      "execution_count": 9,
      "metadata": {
        "id": "rEhAqHRTQHns"
      },
      "outputs": [],
      "source": [
        "input_size = 5\n",
        "hidden_size = 8 # RNN의 대표적인 하이퍼파라미터\n",
        "\n",
        "# 입력 텐서 정의, (batch_size, 시점 개수, 매 시점마다 들어가는 입력 개수)\n",
        "inputs = torch.Tensor(1, 10, 5)"
      ]
    },
    {
      "cell_type": "code",
      "execution_count": 10,
      "metadata": {
        "colab": {
          "base_uri": "https://localhost:8080/"
        },
        "id": "1tH2NjOdQHnt",
        "outputId": "d587356d-808f-4eaf-9364-2e9e5191d737"
      },
      "outputs": [
        {
          "output_type": "stream",
          "name": "stdout",
          "text": [
            "tensor([[[nan, nan, nan, nan, nan, nan, nan, nan],\n",
            "         [nan, nan, nan, nan, nan, nan, nan, nan],\n",
            "         [nan, nan, nan, nan, nan, nan, nan, nan],\n",
            "         [nan, nan, nan, nan, nan, nan, nan, nan],\n",
            "         [nan, nan, nan, nan, nan, nan, nan, nan],\n",
            "         [nan, nan, nan, nan, nan, nan, nan, nan],\n",
            "         [nan, nan, nan, nan, nan, nan, nan, nan],\n",
            "         [nan, nan, nan, nan, nan, nan, nan, nan],\n",
            "         [nan, nan, nan, nan, nan, nan, nan, nan],\n",
            "         [nan, nan, nan, nan, nan, nan, nan, nan]]],\n",
            "       grad_fn=<TransposeBackward1>)\n",
            "torch.Size([1, 10, 8])\n"
          ]
        }
      ],
      "source": [
        "# RNN의 셀 생성\n",
        "# batch_first=True -> 입력 텐서의 첫번째 차원이 배치 크기이다.\n",
        "cell = nn.RNN(input_size, hidden_size, batch_first=True)\n",
        "\n",
        "outputs, _status = cell(inputs)\n",
        "print(outputs)\n",
        "print(outputs.shape) # 모든 time-step의 hidden_state"
      ]
    },
    {
      "cell_type": "code",
      "source": [
        "cell"
      ],
      "metadata": {
        "colab": {
          "base_uri": "https://localhost:8080/"
        },
        "id": "1_bzvDIfa7EH",
        "outputId": "9680b74f-33af-4560-b1e2-40a703276f59"
      },
      "execution_count": 11,
      "outputs": [
        {
          "output_type": "execute_result",
          "data": {
            "text/plain": [
              "RNN(5, 8, batch_first=True)"
            ]
          },
          "metadata": {},
          "execution_count": 11
        }
      ]
    },
    {
      "cell_type": "code",
      "execution_count": 12,
      "metadata": {
        "colab": {
          "base_uri": "https://localhost:8080/"
        },
        "id": "6QMTR5P5QHnt",
        "outputId": "ca87c187-a62e-43b8-e465-9daef2e1c1ed"
      },
      "outputs": [
        {
          "output_type": "stream",
          "name": "stdout",
          "text": [
            "tensor([[[nan, nan, nan, nan, nan, nan, nan, nan]]], grad_fn=<StackBackward0>)\n",
            "torch.Size([1, 1, 8])\n"
          ]
        }
      ],
      "source": [
        "print(_status)\n",
        "print(_status.shape) # 최종 time-step의 hidden_state"
      ]
    },
    {
      "cell_type": "markdown",
      "source": [
        "# 3. Deep RNN (깊은 순환신경망)"
      ],
      "metadata": {
        "id": "uCELLSBzdj6U"
      }
    },
    {
      "cell_type": "code",
      "source": [
        "# num_layers 값을 늘려서 층을 쌓자\n",
        "# (batch_size, time_steps, input_size)\n",
        "inputs = torch.Tensor(1, 10, 5)\n",
        "\n",
        "cell = nn.RNN(input_size=5, hidden_size=8, num_layers=2, batch_first=True)\n",
        "outputs, _status = cell(inputs)\n",
        "print(outputs.shape) # 모든 time-step의 hidden_state"
      ],
      "metadata": {
        "colab": {
          "base_uri": "https://localhost:8080/"
        },
        "id": "Mo2rAAhobDAf",
        "outputId": "e2b14679-f091-4a70-d732-9f770c85beb0"
      },
      "execution_count": 13,
      "outputs": [
        {
          "output_type": "stream",
          "name": "stdout",
          "text": [
            "torch.Size([1, 10, 8])\n"
          ]
        }
      ]
    },
    {
      "cell_type": "markdown",
      "source": [
        "outputs shape은 동일하나 마지막 시점의 hidden_state가 달라진다:"
      ],
      "metadata": {
        "id": "OUNkD2o2i1MB"
      }
    },
    {
      "cell_type": "code",
      "source": [
        "cell"
      ],
      "metadata": {
        "colab": {
          "base_uri": "https://localhost:8080/"
        },
        "id": "embSe82XjEah",
        "outputId": "01b71888-63ff-4b9b-a01d-51fba83d9282"
      },
      "execution_count": 14,
      "outputs": [
        {
          "output_type": "execute_result",
          "data": {
            "text/plain": [
              "RNN(5, 8, num_layers=2, batch_first=True)"
            ]
          },
          "metadata": {},
          "execution_count": 14
        }
      ]
    },
    {
      "cell_type": "code",
      "execution_count": 15,
      "metadata": {
        "colab": {
          "base_uri": "https://localhost:8080/"
        },
        "id": "HvGQ5yIdQHnu",
        "outputId": "87be8884-9fb8-433d-f348-fda0b0331ead"
      },
      "outputs": [
        {
          "output_type": "stream",
          "name": "stdout",
          "text": [
            "torch.Size([2, 1, 8])\n"
          ]
        }
      ],
      "source": [
        "# (num_layers, batch_size, hidden_size)\n",
        "print(_status.shape)"
      ]
    },
    {
      "cell_type": "markdown",
      "source": [
        "# 4. Bidirectional RNN (양방향 순환신경망)\n",
        "\n",
        "기본적으로 두 개의 메모리 셀을 사용\n",
        "\n",
        "첫번째 메모리 셀은 앞 시점의 은닉 상태(Forward States)를 전달받아 현재의 은닉 상태를 계산한다.\n",
        "\n",
        "두번째 메모리 셀은 앞 시점의 은닉 상태가 아니라 뒤 시점의 은닉 상태(Backward States)를 전달 받아 현재의 은닉 상태를 계산한다.\n",
        "\n",
        "그리고 이 두 개의 값 모두가 출력층에서 출력값을 예측하기 위해 사용된다."
      ],
      "metadata": {
        "id": "7vizVzdMjRtD"
      }
    },
    {
      "cell_type": "code",
      "execution_count": 16,
      "metadata": {
        "colab": {
          "base_uri": "https://localhost:8080/"
        },
        "id": "DSPPnLo0QHnu",
        "outputId": "8eb899e2-7559-4e74-91a6-60d2646115cd"
      },
      "outputs": [
        {
          "output_type": "stream",
          "name": "stdout",
          "text": [
            "torch.Size([1, 10, 16])\n"
          ]
        }
      ],
      "source": [
        "inputs = torch.Tensor(1, 10, 5)\n",
        "\n",
        "# bidirectional=True 로 설정하면 양방향 RNN이 된다.\n",
        "cell = nn.RNN(input_size=5, hidden_size=8, num_layers=2, batch_first=True, bidirectional=True)\n",
        "outputs, _status = cell(inputs)\n",
        "\n",
        "print(outputs.shape) # (batch_size, time_steps, hidden_size * 2) 크기를 가진다"
      ]
    },
    {
      "cell_type": "code",
      "source": [
        "print(cell)"
      ],
      "metadata": {
        "colab": {
          "base_uri": "https://localhost:8080/"
        },
        "id": "n4uA5Jejj9-d",
        "outputId": "13c0f209-c824-4332-94c0-79a49ce0654c"
      },
      "execution_count": 17,
      "outputs": [
        {
          "output_type": "stream",
          "name": "stdout",
          "text": [
            "RNN(5, 8, num_layers=2, batch_first=True, bidirectional=True)\n"
          ]
        }
      ]
    },
    {
      "cell_type": "code",
      "source": [
        "print(_status)\n",
        "print(_status.shape) # (num_layers * 2, batch_size, hidden_size) 크기"
      ],
      "metadata": {
        "colab": {
          "base_uri": "https://localhost:8080/"
        },
        "id": "qNwV-ZUAmatA",
        "outputId": "3dd55fa5-f369-44fc-f24c-a314da2efc48"
      },
      "execution_count": 18,
      "outputs": [
        {
          "output_type": "stream",
          "name": "stdout",
          "text": [
            "tensor([[[-1.0000,  1.0000,  1.0000,  1.0000, -1.0000,  1.0000,  1.0000,\n",
            "           1.0000]],\n",
            "\n",
            "        [[ 1.0000,  1.0000, -1.0000, -1.0000, -1.0000, -1.0000, -1.0000,\n",
            "          -1.0000]],\n",
            "\n",
            "        [[-0.5398, -0.7061,  0.8735, -0.1168, -0.9468,  0.1511, -0.8848,\n",
            "          -0.8242]],\n",
            "\n",
            "        [[-0.8775,  0.8700,  0.9854, -0.4266, -0.1077, -0.3785,  0.5749,\n",
            "          -0.0163]]], grad_fn=<StackBackward0>)\n",
            "torch.Size([4, 1, 8])\n"
          ]
        }
      ]
    }
  ],
  "metadata": {
    "kernelspec": {
      "display_name": ".venv",
      "language": "python",
      "name": "python3"
    },
    "language_info": {
      "codemirror_mode": {
        "name": "ipython",
        "version": 3
      },
      "file_extension": ".py",
      "mimetype": "text/x-python",
      "name": "python",
      "nbconvert_exporter": "python",
      "pygments_lexer": "ipython3",
      "version": "3.12.8"
    },
    "colab": {
      "provenance": [],
      "include_colab_link": true
    }
  },
  "nbformat": 4,
  "nbformat_minor": 0
}