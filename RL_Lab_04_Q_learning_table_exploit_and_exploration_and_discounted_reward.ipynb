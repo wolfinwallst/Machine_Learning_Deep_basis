{
  "cells": [
    {
      "cell_type": "markdown",
      "metadata": {
        "id": "view-in-github",
        "colab_type": "text"
      },
      "source": [
        "<a href=\"https://colab.research.google.com/github/wolfinwallst/Machine_Learning_Deep_basis/blob/main/RL_Lab_04_Q_learning_table_exploit_and_exploration_and_discounted_reward.ipynb\" target=\"_parent\"><img src=\"https://colab.research.google.com/assets/colab-badge.svg\" alt=\"Open In Colab\"/></a>"
      ]
    },
    {
      "cell_type": "code",
      "execution_count": 15,
      "metadata": {
        "id": "wcTWUoBX1e8D"
      },
      "outputs": [],
      "source": [
        "import gym\n",
        "import numpy as np\n",
        "import matplotlib.pyplot as plt\n",
        "from gym.envs.registration import register"
      ]
    },
    {
      "cell_type": "code",
      "execution_count": 16,
      "metadata": {
        "id": "7srxn_AE1e8E"
      },
      "outputs": [],
      "source": [
        "register(\n",
        "    id='FrozenLake-v3',\n",
        "    entry_point='gym.envs.toy_text:FrozenLakeEnv',\n",
        "    kwargs={'map_name': '4x4',\n",
        "            'is_slippery': False}\n",
        ")\n",
        "\n",
        "env = gym.make('FrozenLake-v3')"
      ]
    },
    {
      "cell_type": "code",
      "execution_count": 17,
      "metadata": {
        "id": "da2L5aKn1e8F"
      },
      "outputs": [],
      "source": [
        "# Initialize table w/ all zeros\n",
        "Q = np.zeros([env.observation_space.n, env.action_space.n])\n",
        "# discount factor\n",
        "dis = .99\n",
        "num_episodes = 2000\n",
        "\n",
        "#  create lists to contain total rewards and steps per episode\n",
        "rList = []"
      ]
    },
    {
      "cell_type": "code",
      "execution_count": 18,
      "metadata": {
        "id": "8YB2Vw9V1e8G"
      },
      "outputs": [],
      "source": [
        "for i in range(num_episodes):\n",
        "    # Reset environment and get first new observation\n",
        "    state = env.reset()\n",
        "    rAll = 0\n",
        "    done = False\n",
        "\n",
        "    # the Q-table learning algorithm\n",
        "    while not done:\n",
        "        # Choose an actino by greedily (with noise) picking from Q table\n",
        "        action = np.argmax(Q[state, :] + np.random.randn(1, env.action_space.n) / (1 + 1))\n",
        "\n",
        "        # get new state and reward from environment\n",
        "        new_state, reward, done, _ = env.step(action)\n",
        "\n",
        "        # update Q-table w/ new knowledge using decay rate\n",
        "        Q[state, action] = reward + dis * np.max(Q[new_state, :])\n",
        "\n",
        "        rAll += reward\n",
        "        state = new_state\n",
        "\n",
        "    rList.append(rAll)"
      ]
    },
    {
      "cell_type": "code",
      "execution_count": 19,
      "metadata": {
        "colab": {
          "base_uri": "https://localhost:8080/",
          "height": 742
        },
        "id": "nLuim4iI1e8H",
        "outputId": "9b042438-f766-4d2c-b90b-d2cfe9687055"
      },
      "outputs": [
        {
          "output_type": "stream",
          "name": "stdout",
          "text": [
            "Success rate: 0.554\n",
            "Final Q-Table Values\n",
            "[[0.94148015 0.95099005 0.95099005 0.94148015]\n",
            " [0.94148015 0.         0.96059601 0.95099005]\n",
            " [0.95099005 0.970299   0.95099005 0.96059601]\n",
            " [0.96059601 0.         0.95099005 0.95099005]\n",
            " [0.95099005 0.96059601 0.         0.94148015]\n",
            " [0.         0.         0.         0.        ]\n",
            " [0.         0.9801     0.         0.96059601]\n",
            " [0.         0.         0.         0.        ]\n",
            " [0.96059601 0.         0.970299   0.95099005]\n",
            " [0.96059601 0.9801     0.9801     0.        ]\n",
            " [0.970299   0.99       0.         0.970299  ]\n",
            " [0.         0.         0.         0.        ]\n",
            " [0.         0.         0.         0.        ]\n",
            " [0.         0.9801     0.99       0.970299  ]\n",
            " [0.9801     0.99       1.         0.9801    ]\n",
            " [0.         0.         0.         0.        ]]\n"
          ]
        },
        {
          "output_type": "display_data",
          "data": {
            "text/plain": [
              "<Figure size 640x480 with 1 Axes>"
            ],
            "image/png": "[encoded data removed]"
          },
          "metadata": {}
        }
      ],
      "source": [
        "print(\"Success rate: \" + str(sum(rList) / num_episodes))\n",
        "print('Final Q-Table Values')\n",
        "print(Q)\n",
        "plt.bar(range(len(rList)), rList, color=\"blue\")\n",
        "plt.show()"
      ]
    },
    {
      "cell_type": "code",
      "execution_count": 20,
      "metadata": {
        "id": "D6Pa2tId1e8I"
      },
      "outputs": [],
      "source": [
        "# e-greedy\n",
        "for i in range(num_episodes):\n",
        "    # Reset environment and get first new observation\n",
        "    state = env.reset()\n",
        "    rAll = 0\n",
        "    done = False\n",
        "\n",
        "    e = 1. / ((1 // 100) + 1)\n",
        "    # the Q-table learning algorithm\n",
        "    while not done:\n",
        "        # Choose an action by e greedy\n",
        "        if np.random.rand(1) < e:\n",
        "            action = env.action_space.sample()\n",
        "        else:\n",
        "            action = np.argmax(Q[state, :])\n",
        "\n",
        "        # get new state and reward from environment\n",
        "        new_state, reward, done, _ = env.step(action)\n",
        "\n",
        "        # update Q-table w/ new knowledge using decay rate\n",
        "        Q[state, action] = reward + dis * np.max(Q[new_state, :])\n",
        "\n",
        "        rAll += reward\n",
        "        state = new_state\n",
        "\n",
        "    rList.append(rAll)"
      ]
    },
    {
      "cell_type": "code",
      "execution_count": 21,
      "metadata": {
        "colab": {
          "base_uri": "https://localhost:8080/",
          "height": 742
        },
        "id": "6JoKzcBZ1e8I",
        "outputId": "6ced42d5-836b-4af0-99eb-1442e9cf2f4b"
      },
      "outputs": [
        {
          "output_type": "stream",
          "name": "stdout",
          "text": [
            "Success rate: 0.573\n",
            "Final Q-Table Values\n",
            "[[0.94148015 0.95099005 0.95099005 0.94148015]\n",
            " [0.94148015 0.         0.96059601 0.95099005]\n",
            " [0.95099005 0.970299   0.95099005 0.96059601]\n",
            " [0.96059601 0.         0.95099005 0.95099005]\n",
            " [0.95099005 0.96059601 0.         0.94148015]\n",
            " [0.         0.         0.         0.        ]\n",
            " [0.         0.9801     0.         0.96059601]\n",
            " [0.         0.         0.         0.        ]\n",
            " [0.96059601 0.         0.970299   0.95099005]\n",
            " [0.96059601 0.9801     0.9801     0.        ]\n",
            " [0.970299   0.99       0.         0.970299  ]\n",
            " [0.         0.         0.         0.        ]\n",
            " [0.         0.         0.         0.        ]\n",
            " [0.         0.9801     0.99       0.970299  ]\n",
            " [0.9801     0.99       1.         0.9801    ]\n",
            " [0.         0.         0.         0.        ]]\n"
          ]
        },
        {
          "output_type": "display_data",
          "data": {
            "text/plain": [
              "<Figure size 640x480 with 1 Axes>"
            ],
            "image/png": "[encoded data removed]"
          },
          "metadata": {}
        }
      ],
      "source": [
        "print(\"Success rate: \" + str(sum(rList) / num_episodes))\n",
        "print('Final Q-Table Values')\n",
        "print(Q)\n",
        "plt.bar(range(len(rList)), rList, color=\"blue\")\n",
        "plt.show()"
      ]
    },
    {
      "cell_type": "code",
      "execution_count": 21,
      "metadata": {
        "id": "TbErG4411e8J"
      },
      "outputs": [],
      "source": []
    },
    {
      "cell_type": "code",
      "execution_count": 21,
      "metadata": {
        "id": "BsA67rW61e8J"
      },
      "outputs": [],
      "source": []
    },
    {
      "cell_type": "code",
      "execution_count": 21,
      "metadata": {
        "id": "mbQslw6D1e8J"
      },
      "outputs": [],
      "source": []
    },
    {
      "cell_type": "code",
      "execution_count": 21,
      "metadata": {
        "id": "MOfEhPVq1e8K"
      },
      "outputs": [],
      "source": []
    },
    {
      "cell_type": "code",
      "execution_count": 21,
      "metadata": {
        "id": "-LGyT2he1e8K"
      },
      "outputs": [],
      "source": []
    }
  ],
  "metadata": {
    "kernelspec": {
      "display_name": ".venv",
      "language": "python",
      "name": "python3"
    },
    "language_info": {
      "name": "python",
      "version": "3.12.8"
    },
    "colab": {
      "provenance": [],
      "include_colab_link": true
    }
  },
  "nbformat": 4,
  "nbformat_minor": 0
}