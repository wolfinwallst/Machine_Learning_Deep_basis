{
 "cells": [
  {
   "cell_type": "code",
   "execution_count": 1,
   "metadata": {},
   "outputs": [],
   "source": [
    "import numpy as np"
   ]
  },
  {
   "cell_type": "code",
   "execution_count": 2,
   "metadata": {},
   "outputs": [],
   "source": [
    "xy = np.loadtxt('data-01-test-score.csv', delimiter=',', dtype=np.float32)\n",
    "\n",
    "x_data = xy[:, 0:-1]\n",
    "y_data = xy[:, [-1]]"
   ]
  },
  {
   "cell_type": "code",
   "execution_count": 3,
   "metadata": {},
   "outputs": [
    {
     "name": "stdout",
     "output_type": "stream",
     "text": [
      "(25, 3)\n",
      "25\n",
      "[[ 73.  80.  75.]\n",
      " [ 93.  88.  93.]\n",
      " [ 89.  91.  90.]\n",
      " [ 96.  98. 100.]\n",
      " [ 73.  66.  70.]]\n"
     ]
    }
   ],
   "source": [
    "print(x_data.shape)\n",
    "print(len(x_data))\n",
    "print(x_data[:5])"
   ]
  },
  {
   "cell_type": "code",
   "execution_count": 4,
   "metadata": {},
   "outputs": [
    {
     "name": "stdout",
     "output_type": "stream",
     "text": [
      "(25, 1)\n",
      "25\n",
      "[[152.]\n",
      " [185.]\n",
      " [180.]\n",
      " [196.]\n",
      " [142.]]\n"
     ]
    }
   ],
   "source": [
    "print(y_data.shape)\n",
    "print(len(y_data))\n",
    "print(y_data[:5])"
   ]
  },
  {
   "cell_type": "code",
   "execution_count": 5,
   "metadata": {},
   "outputs": [],
   "source": [
    "import torch\n",
    "import torch.nn as nn\n",
    "import torch.nn.functional as F\n",
    "import torch.optim as optim"
   ]
  },
  {
   "cell_type": "code",
   "execution_count": 6,
   "metadata": {},
   "outputs": [
    {
     "data": {
      "text/plain": [
       "<torch._C.Generator at 0x273cdb5d9f0>"
      ]
     },
     "execution_count": 6,
     "metadata": {},
     "output_type": "execute_result"
    }
   ],
   "source": [
    "torch.manual_seed(1)"
   ]
  },
  {
   "cell_type": "markdown",
   "metadata": {},
   "source": [
    "# low-level implementation"
   ]
  },
  {
   "cell_type": "code",
   "execution_count": 7,
   "metadata": {},
   "outputs": [
    {
     "name": "stdout",
     "output_type": "stream",
     "text": [
      "Epoch    0/20 | Cost: 26811.960938\n",
      "Epoch    1/20 | Cost: 9920.530273\n",
      "Epoch    2/20 | Cost: 3675.298828\n",
      "Epoch    3/20 | Cost: 1366.260986\n",
      "Epoch    4/20 | Cost: 512.542297\n",
      "Epoch    5/20 | Cost: 196.896500\n",
      "Epoch    6/20 | Cost: 80.190903\n",
      "Epoch    7/20 | Cost: 37.038647\n",
      "Epoch    8/20 | Cost: 21.081354\n",
      "Epoch    9/20 | Cost: 15.178741\n",
      "Epoch   10/20 | Cost: 12.993667\n",
      "Epoch   11/20 | Cost: 12.183028\n",
      "Epoch   12/20 | Cost: 11.880545\n",
      "Epoch   13/20 | Cost: 11.765953\n",
      "Epoch   14/20 | Cost: 11.720860\n",
      "Epoch   15/20 | Cost: 11.701425\n",
      "Epoch   16/20 | Cost: 11.691506\n",
      "Epoch   17/20 | Cost: 11.685120\n",
      "Epoch   18/20 | Cost: 11.680006\n",
      "Epoch   19/20 | Cost: 11.675381\n",
      "Epoch   20/20 | Cost: 11.670943\n"
     ]
    }
   ],
   "source": [
    "# 데이터\n",
    "x_train = torch.FloatTensor(x_data)\n",
    "y_train = torch.FloatTensor(y_data)\n",
    "# 모델 초기화\n",
    "W = torch.zeros((3, 1), requires_grad=True)\n",
    "b = torch.zeros(1, requires_grad=True)\n",
    "# optimizer 설정\n",
    "optimizer = optim.SGD([W, b], lr=1e-5)\n",
    "\n",
    "nb_epochs = 20\n",
    "for epoch in range(nb_epochs + 1):\n",
    "    hypothesis = x_train.matmul(W) + b\n",
    "    cost = torch.mean((hypothesis - y_train) ** 2)\n",
    "\n",
    "    optimizer.zero_grad()\n",
    "    cost.backward()\n",
    "    optimizer.step()\n",
    "\n",
    "    print('Epoch {:4d}/{} | Cost: {:.6f}'.format(\n",
    "        epoch, nb_epochs, cost.item()\n",
    "    ))"
   ]
  },
  {
   "cell_type": "markdown",
   "metadata": {},
   "source": [
    "# High-level implementation"
   ]
  },
  {
   "cell_type": "code",
   "execution_count": 8,
   "metadata": {},
   "outputs": [],
   "source": [
    "class MultivariateLinearRegressionModel(nn.Module):\n",
    "    def __init__(self):\n",
    "        super().__init__()\n",
    "        self.linear = nn.Linear(3, 1)\n",
    "\n",
    "    def forward(self, x):\n",
    "        return self.linear(x)"
   ]
  },
  {
   "cell_type": "code",
   "execution_count": 9,
   "metadata": {},
   "outputs": [
    {
     "name": "stdout",
     "output_type": "stream",
     "text": [
      "Epoch    0/20 Cost: 28693.490234\n",
      "Epoch    1/20 Cost: 10618.750000\n",
      "Epoch    2/20 Cost: 3936.015381\n",
      "Epoch    3/20 Cost: 1465.219360\n",
      "Epoch    4/20 Cost: 551.693909\n",
      "Epoch    5/20 Cost: 213.934662\n",
      "Epoch    6/20 Cost: 89.052254\n",
      "Epoch    7/20 Cost: 42.876022\n",
      "Epoch    8/20 Cost: 25.799620\n",
      "Epoch    9/20 Cost: 19.482409\n",
      "Epoch   10/20 Cost: 17.143106\n",
      "Epoch   11/20 Cost: 16.274515\n",
      "Epoch   12/20 Cost: 15.949698\n",
      "Epoch   13/20 Cost: 15.825971\n",
      "Epoch   14/20 Cost: 15.776586\n",
      "Epoch   15/20 Cost: 15.754648\n",
      "Epoch   16/20 Cost: 15.742906\n",
      "Epoch   17/20 Cost: 15.734898\n",
      "Epoch   18/20 Cost: 15.728318\n",
      "Epoch   19/20 Cost: 15.722224\n",
      "Epoch   20/20 Cost: 15.716328\n"
     ]
    }
   ],
   "source": [
    "x_train = torch.FloatTensor(x_data)\n",
    "y_train = torch.FloatTensor(y_data)\n",
    "\n",
    "model = MultivariateLinearRegressionModel()\n",
    "optimizer = optim.SGD(model.parameters(), lr=1e-5)\n",
    "\n",
    "nb_epochs = 20\n",
    "for epoch in range(nb_epochs + 1):\n",
    "    prediction = model(x_train)\n",
    "    cost = F.mse_loss(prediction, y_train)\n",
    "    \n",
    "    optimizer.zero_grad()\n",
    "    cost.backward()\n",
    "    optimizer.step()\n",
    "    \n",
    "    print('Epoch {:4d}/{} Cost: {:.6f}'.format(\n",
    "        epoch, nb_epochs, cost.item()\n",
    "    ))"
   ]
  }
 ],
 "metadata": {
  "kernelspec": {
   "display_name": ".venv",
   "language": "python",
   "name": "python3"
  },
  "language_info": {
   "codemirror_mode": {
    "name": "ipython",
    "version": 3
   },
   "file_extension": ".py",
   "mimetype": "text/x-python",
   "name": "python",
   "nbconvert_exporter": "python",
   "pygments_lexer": "ipython3",
   "version": "3.12.8"
  }
 },
 "nbformat": 4,
 "nbformat_minor": 2
}
