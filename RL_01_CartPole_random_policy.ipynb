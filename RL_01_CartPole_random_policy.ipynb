{
  "cells": [
    {
      "cell_type": "markdown",
      "metadata": {
        "id": "view-in-github",
        "colab_type": "text"
      },
      "source": [
        "<a href=\"https://colab.research.google.com/github/wolfinwallst/Machine_Learning_Deep_basis/blob/main/RL_01_CartPole_random_policy.ipynb\" target=\"_parent\"><img src=\"https://colab.research.google.com/assets/colab-badge.svg\" alt=\"Open In Colab\"/></a>"
      ]
    },
    {
      "cell_type": "markdown",
      "metadata": {
        "id": "gWGxCnszuX7O"
      },
      "source": [
        "[출처](https://nodiscard.tistory.com/291) 를 보고 연습하고 익히는 과정이다.\n",
        "\n",
        "첫 예제: CartPole 환경에서 random policy 실행\n",
        "\n",
        "여기서는 학습 과정없이 매 스텝 랜덤하게 action을 선택해보자:"
      ]
    },
    {
      "cell_type": "code",
      "execution_count": 1,
      "metadata": {
        "id": "TKnOvow_uX7Q"
      },
      "outputs": [],
      "source": [
        "import gym\n",
        "import torch"
      ]
    },
    {
      "cell_type": "code",
      "execution_count": 2,
      "metadata": {
        "colab": {
          "base_uri": "https://localhost:8080/"
        },
        "id": "rQlczpNpuX7R",
        "outputId": "c0df0fa4-afb4-4a42-a7c0-e72a76b8b1df"
      },
      "outputs": [
        {
          "output_type": "stream",
          "name": "stderr",
          "text": [
            "/usr/local/lib/python3.11/dist-packages/ipykernel/ipkernel.py:283: DeprecationWarning: `should_run_async` will not call `transform_cell` automatically in the future. Please pass the result to `transformed_cell` argument and any exception that happen during thetransform in `preprocessing_exc_tuple` in IPython 7.17 and above.\n",
            "  and should_run_async(code)\n"
          ]
        }
      ],
      "source": [
        "def run_random_agent(env_name=\"CartPole-v1\", max_episodes=2, max_steps=200):\n",
        "    env = gym.make(env_name)\n",
        "    for episode in range(max_episodes):\n",
        "        state = env.reset()\n",
        "        total_reward = 0\n",
        "\n",
        "        for step in range(max_steps):\n",
        "            action = env.action_space.sample() # 랜덤 action\n",
        "            next_state, reward, done, info = env.step(action)\n",
        "            total_reward += reward\n",
        "            state = next_state\n",
        "\n",
        "            if done:\n",
        "                print(f\"Episode {episode + 1} finished after {step + 1} steps, total reward: {total_reward}\")\n",
        "                break\n",
        "    env.close()"
      ]
    },
    {
      "cell_type": "code",
      "execution_count": 3,
      "metadata": {
        "colab": {
          "base_uri": "https://localhost:8080/"
        },
        "id": "KduzDK_FuX7S",
        "outputId": "7ae325de-a038-4060-a5b5-cca35cf04cd6"
      },
      "outputs": [
        {
          "output_type": "stream",
          "name": "stdout",
          "text": [
            "Episode 1 finished after 54 steps, total reward: 54.0\n",
            "Episode 2 finished after 45 steps, total reward: 45.0\n",
            "PyTorch 텐서 예제:\n",
            "tensor([[ 0.2961, -1.5352, -0.6540, -1.2138],\n",
            "        [-1.4945,  0.7383, -1.0292, -0.1509],\n",
            "        [ 1.4162,  0.6452,  1.0687, -0.6165]])\n",
            "텐서 크기: torch.Size([3, 4])\n"
          ]
        },
        {
          "output_type": "stream",
          "name": "stderr",
          "text": [
            "/usr/local/lib/python3.11/dist-packages/gym/core.py:317: DeprecationWarning: \u001b[33mWARN: Initializing wrapper in old step API which returns one bool instead of two. It is recommended to set `new_step_api=True` to use new step API. This will be the default behaviour in future.\u001b[0m\n",
            "  deprecation(\n",
            "/usr/local/lib/python3.11/dist-packages/gym/wrappers/step_api_compatibility.py:39: DeprecationWarning: \u001b[33mWARN: Initializing environment in old step API which returns one bool instead of two. It is recommended to set `new_step_api=True` to use new step API. This will be the default behaviour in future.\u001b[0m\n",
            "  deprecation(\n",
            "/usr/local/lib/python3.11/dist-packages/gym/utils/passive_env_checker.py:241: DeprecationWarning: `np.bool8` is a deprecated alias for `np.bool_`.  (Deprecated NumPy 1.24)\n",
            "  if not isinstance(terminated, (bool, np.bool8)):\n"
          ]
        }
      ],
      "source": [
        "def tensor_example():\n",
        "    x = torch.randn((3, 4))\n",
        "    print(\"PyTorch 텐서 예제:\")\n",
        "    print(x)\n",
        "    print(\"텐서 크기:\", x.shape)\n",
        "\n",
        "if __name__ == \"__main__\":\n",
        "    run_random_agent()\n",
        "    tensor_example()"
      ]
    },
    {
      "cell_type": "code",
      "execution_count": 4,
      "metadata": {
        "colab": {
          "base_uri": "https://localhost:8080/"
        },
        "id": "2kba8yHRuX7T",
        "outputId": "a05574bd-9624-45a7-e37f-2a6de10dfdd0"
      },
      "outputs": [
        {
          "output_type": "stream",
          "name": "stdout",
          "text": [
            "Episode 1 finished after 24 steps, total reward: 24.0\n",
            "Episode 2 finished after 27 steps, total reward: 27.0\n"
          ]
        }
      ],
      "source": [
        "run_random_agent()"
      ]
    },
    {
      "cell_type": "code",
      "source": [
        "tensor_example()"
      ],
      "metadata": {
        "colab": {
          "base_uri": "https://localhost:8080/"
        },
        "id": "IuQYMZybupJF",
        "outputId": "26577a66-82d2-4ef1-b8ad-df8970c751d1"
      },
      "execution_count": 5,
      "outputs": [
        {
          "output_type": "stream",
          "name": "stdout",
          "text": [
            "PyTorch 텐서 예제:\n",
            "tensor([[-1.2435, -0.0995,  0.7940,  2.1166],\n",
            "        [-1.4456, -0.5147, -1.5936,  1.6091],\n",
            "        [-0.0538, -0.4265,  0.4480, -1.3731]])\n",
            "텐서 크기: torch.Size([3, 4])\n"
          ]
        }
      ]
    }
  ],
  "metadata": {
    "kernelspec": {
      "display_name": ".venv",
      "language": "python",
      "name": "python3"
    },
    "language_info": {
      "name": "python",
      "version": "3.12.8"
    },
    "colab": {
      "provenance": [],
      "include_colab_link": true
    }
  },
  "nbformat": 4,
  "nbformat_minor": 0
}